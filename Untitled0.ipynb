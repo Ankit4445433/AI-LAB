{
  "nbformat": 4,
  "nbformat_minor": 0,
  "metadata": {
    "colab": {
      "provenance": [],
      "authorship_tag": "ABX9TyNW5aQLyVAFAdMW5zZlyzRs",
      "include_colab_link": true
    },
    "kernelspec": {
      "name": "python3",
      "display_name": "Python 3"
    },
    "language_info": {
      "name": "python"
    }
  },
  "cells": [
    {
      "cell_type": "markdown",
      "metadata": {
        "id": "view-in-github",
        "colab_type": "text"
      },
      "source": [
        "<a href=\"https://colab.research.google.com/github/Ankit4445433/AI-LAB/blob/main/Untitled0.ipynb\" target=\"_parent\"><img src=\"https://colab.research.google.com/assets/colab-badge.svg\" alt=\"Open In Colab\"/></a>"
      ]
    },
    {
      "cell_type": "code",
      "execution_count": 2,
      "metadata": {
        "colab": {
          "base_uri": "https://localhost:8080/"
        },
        "id": "SiweFiBzyO5D",
        "outputId": "e8380d19-8541-42f1-a39e-b01c8396b6cc"
      },
      "outputs": [
        {
          "output_type": "stream",
          "name": "stdout",
          "text": [
            "find whether a number is prime or not\n",
            "2\n",
            "3\n",
            "5\n",
            "7\n"
          ]
        }
      ],
      "source": [
        "#Write a program to find prime number with in a range using function.\n",
        "print('find whether a number is prime or not')\n",
        "def prime(x,y):\n",
        "  for i in range(x,y+1):\n",
        "    j=2\n",
        "    while(j<i):\n",
        "      if(i%j==0):\n",
        "        break\n",
        "      j=j+1\n",
        "    if(i==j):\n",
        "      print(i)\n",
        "prime(1,10)\n",
        "\n"
      ]
    },
    {
      "cell_type": "code",
      "source": [
        "#Write a program to check palindrome.\n",
        "print('check whether the number is palindrome or not')\n",
        "num=int(input())\n",
        "x=str(num)\n",
        "x=x[::-1]\n",
        "x=int(x)\n",
        "if num==x:\n",
        " print('palindrome')\n",
        "else:\n",
        " print('not palindrome')"
      ],
      "metadata": {
        "colab": {
          "base_uri": "https://localhost:8080/"
        },
        "id": "sufj61nk3Akd",
        "outputId": "8cac5975-346c-4ceb-e5d4-80809b756e04"
      },
      "execution_count": 8,
      "outputs": [
        {
          "output_type": "stream",
          "name": "stdout",
          "text": [
            "check whether the number is palindrome or not\n",
            "321\n",
            "not palindrome\n"
          ]
        }
      ]
    },
    {
      "cell_type": "code",
      "source": [
        "#Write a program to generate the Fibonacci sequence of a given number.\n",
        "print('generate a sequence of fibonacci number')\n",
        "a=0\n",
        "b=1\n",
        "x=int(input())\n",
        "for i in range(2,x):\n",
        "  y=a\n",
        "  a=b\n",
        "  b=y+b\n",
        "  print(b)\n",
        "\n"
      ],
      "metadata": {
        "colab": {
          "base_uri": "https://localhost:8080/"
        },
        "id": "UfjEJLsi6Y8E",
        "outputId": "151686bf-a844-4b2c-fb03-8f54164ce5a6"
      },
      "execution_count": 13,
      "outputs": [
        {
          "output_type": "stream",
          "name": "stdout",
          "text": [
            "generate a sequence of fibonacci number\n",
            "4\n",
            "1\n",
            "2\n"
          ]
        }
      ]
    },
    {
      "cell_type": "code",
      "source": [
        "# Create a number guessing game. Where you have to generate a random number in between 1 to 100 and user have to prompt a number for guess. if its high or low number let the user know and guide them through the process to guess correct number.\n",
        "import random\n",
        "def rand():\n",
        "  a=random.randint(1,100)\n",
        "  return a\n",
        "def ask():\n",
        "  x=int(input(\"Guess Integer between 1-100: \"))\n",
        "  return x\n",
        "def game():\n",
        "  n=0\n",
        "  a=rand()\n",
        "  x=ask()\n",
        "  while(n==0):\n",
        "    if(a==x):\n",
        "      print(f\"you guess the correct number:{x}\")\n",
        "      n=1\n",
        "    elif(x<a):\n",
        "      if((a-x)>5):\n",
        "        print(\"you number to low\")\n",
        "        x=ask()\n",
        "      else:\n",
        "        print(\"you are close\")\n",
        "        x=ask()\n",
        "    elif(x>a):\n",
        "      if((x-a)>5):\n",
        "        print(\"you number to high\")\n",
        "        x=ask()\n",
        "      else:\n",
        "        print(\"you are close\")\n",
        "        x=ask()\n",
        "game()"
      ],
      "metadata": {
        "colab": {
          "base_uri": "https://localhost:8080/"
        },
        "id": "-JkuAJNw98hX",
        "outputId": "693bebe2-1936-4c96-c8f3-cbe97d77a65d"
      },
      "execution_count": 14,
      "outputs": [
        {
          "output_type": "stream",
          "name": "stdout",
          "text": [
            "Guess Integer between 1-100: 34\n",
            "you number to low\n",
            "Guess Integer between 1-100: 67\n",
            "you number to high\n",
            "Guess Integer between 1-100: 45\n",
            "you number to low\n",
            "Guess Integer between 1-100: 48\n",
            "you number to low\n",
            "Guess Integer between 1-100: 50\n",
            "you number to low\n",
            "Guess Integer between 1-100: 51\n",
            "you number to low\n",
            "Guess Integer between 1-100: 55\n",
            "you are close\n",
            "Guess Integer between 1-100: 57\n",
            "you guess the correct number:57\n"
          ]
        }
      ]
    }
  ]
}